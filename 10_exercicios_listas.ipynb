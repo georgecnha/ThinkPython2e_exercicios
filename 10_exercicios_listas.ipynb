{
 "cells": [
  {
   "cell_type": "markdown",
   "metadata": {
    "collapsed": true
   },
   "source": [
    "# 10.15 Exercises\n",
    "You can download solutions to these exercises from http://thinkpython2.com/code/list_exercises.py."
   ]
  },
  {
   "cell_type": "markdown",
   "metadata": {},
   "source": [
    "**Exercise 10.1.** *Write a function called `nested_sum` that takes a list of lists of integers and adds up the elements from all of the nested lists. For example:*\n",
    "\n",
    "```\n",
    ">>> t = [[1, 2], [3], [4, 5, 6]]\n",
    ">>> nested_sum(t)\n",
    "21\n",
    "```"
   ]
  },
  {
   "cell_type": "code",
   "execution_count": 2,
   "metadata": {},
   "outputs": [
    {
     "data": {
      "text/plain": [
       "21"
      ]
     },
     "execution_count": 2,
     "metadata": {},
     "output_type": "execute_result"
    }
   ],
   "source": [
    "def nested_sum(t):\n",
    "    \"\"\"\n",
    "    Recebe uma listas de listas de inteiros e retorna a soma de todos os inteiros dentro das listas aninhadas\n",
    "    \"\"\"\n",
    "    soma=0\n",
    "    for item in t:\n",
    "        soma+=sum(item)\n",
    "    return soma\n",
    "\n",
    "t=[[1, 2], [3], [4, 5, 6]]\n",
    "nested_sum(t)"
   ]
  },
  {
   "cell_type": "markdown",
   "metadata": {},
   "source": [
    "**Exercise 10.2.** *Write a function called* `cumsum` *that takes a list of numbers and returns the cumulative sum; that is, a new list where the ith element is the sum of the first i + 1 elements from the original list. For example:*\n",
    "```\n",
    ">>> t = [1, 2, 3]\n",
    ">>> cumsum(t)\n",
    "[1, 3, 6]\n",
    "```"
   ]
  },
  {
   "cell_type": "code",
   "execution_count": 3,
   "metadata": {},
   "outputs": [
    {
     "data": {
      "text/plain": [
       "[1, 3, 6]"
      ]
     },
     "execution_count": 3,
     "metadata": {},
     "output_type": "execute_result"
    }
   ],
   "source": [
    "def cumsum(t:list)->list:\n",
    "    \"\"\"\n",
    "    Recebe uma lista de números e \n",
    "    retorna uma nova lista em que cada item i é substituído pelo seu valor somado aos itens que o antecedem.\n",
    "    \"\"\"\n",
    "    valor_acumulado=[]\n",
    "    i=0\n",
    "    while i < len(t):\n",
    "        i+=1\n",
    "        valor_acumulado += [sum(t[:i])]\n",
    "    return valor_acumulado   \n",
    "    \n",
    "        \n",
    "t = [1, 2, 3]\n",
    "cumsum(t)"
   ]
  },
  {
   "cell_type": "markdown",
   "metadata": {},
   "source": [
    "**Exercise 10.3.** *Write a function* called `middle` *that takes a list and returns a new list that contains all but the first and last elements. For example:*\n",
    "\n",
    "```\n",
    ">>> t = [1, 2, 3, 4]\n",
    ">>> middle(t)\n",
    "[2, 3]\n",
    "```"
   ]
  },
  {
   "cell_type": "code",
   "execution_count": 5,
   "metadata": {},
   "outputs": [
    {
     "data": {
      "text/plain": [
       "[2, 3]"
      ]
     },
     "execution_count": 5,
     "metadata": {},
     "output_type": "execute_result"
    }
   ],
   "source": [
    "def middle(t:list)->list:\n",
    "    \"\"\"\n",
    "    Recebe uma lista e retorna outra com todos os elementos da primeira, exceto o primeito e o último. \n",
    "    \"\"\"\n",
    "    meiuca=t[1:(len(t)-1)]\n",
    "    return meiuca\n",
    "\n",
    "t = [1, 2, 3, 4]\n",
    "middle(t)"
   ]
  },
  {
   "cell_type": "markdown",
   "metadata": {},
   "source": [
    "**Exercise 10.4.** *Write a function called* `chop` *that takes a list, modifies it by removing the first and last elements, and returns `None.` For example:*\n",
    "\n",
    "```\n",
    ">>> t = [1, 2, 3, 4]\n",
    ">>> chop(t)\n",
    ">>> t\n",
    "[2, 3]\n",
    "```"
   ]
  },
  {
   "cell_type": "code",
   "execution_count": 6,
   "metadata": {},
   "outputs": [
    {
     "name": "stdout",
     "output_type": "stream",
     "text": [
      "[2, 3]\n"
     ]
    }
   ],
   "source": [
    "def chop(t:list):\n",
    "    \"\"\"\n",
    "    Deleta o primeiro e o último elemento de uma lista.\n",
    "    \"\"\"\n",
    "    del (t[0],t[len(t)-1])\n",
    "    return None\n",
    "\n",
    "t = [1, 2, 3, 4]\n",
    "\n",
    "chop(t)\n",
    "print(t)"
   ]
  },
  {
   "cell_type": "markdown",
   "metadata": {},
   "source": [
    "**Exercise 10.5.** *Write a function called* `is_sorted` *that takes a list as a parameter and returns `True` if the list is sorted in ascending order and False otherwise. For example:*\n",
    "\n",
    "```\n",
    ">>> is_sorted([1, 2, 2])\n",
    "True\n",
    ">>> is_sorted(['b', 'a'])\n",
    "False\n",
    "```"
   ]
  },
  {
   "cell_type": "code",
   "execution_count": 9,
   "metadata": {},
   "outputs": [
    {
     "name": "stdout",
     "output_type": "stream",
     "text": [
      "True\n",
      "False\n"
     ]
    }
   ],
   "source": [
    "def is_sorted(t:list)->bool:\n",
    "    \"\"\"\n",
    "    Recebe uma lista e\n",
    "    retorna True se a lista estiver em ordem crescente.\n",
    "    \"\"\"\n",
    "    i=0\n",
    "    if t == sorted(t):\n",
    "        return True\n",
    "    else:\n",
    "        return False\n",
    "print(is_sorted([1, 2, 2]))\n",
    "print(is_sorted(['b', 'a']))"
   ]
  },
  {
   "cell_type": "markdown",
   "metadata": {},
   "source": [
    "**Exercise 10.6.** *Two words are anagrams if you can rearrange the letters from one to spell the other. Write a function called* `is_anagram` *that takes two strings and returns True if they are anagrams.*"
   ]
  },
  {
   "cell_type": "code",
   "execution_count": 10,
   "metadata": {},
   "outputs": [
    {
     "name": "stdout",
     "output_type": "stream",
     "text": [
      "False\n",
      "True\n"
     ]
    }
   ],
   "source": [
    "def is_anagram(s1:str, s2:str)->bool:\n",
    "    \"\"\"\n",
    "    Recebe duas strings e retorna True, se elas são anagramas.\n",
    "    \"\"\"\n",
    "    i=0\n",
    "    s01=s1.replace(' ', '')\n",
    "    s02=s2.replace(' ', '')\n",
    "\n",
    "    if len(s01)!=len(s02):\n",
    "        return False\n",
    "    elif s01 != s02[::-1]:\n",
    "        return False\n",
    "    else:\n",
    "        return True\n",
    "\n",
    "\n",
    "s1= 'ana banana'\n",
    "s2= 'ana canana'\n",
    "print(is_anagram(s1, s2))\n",
    "s3= 'subi no onibus'\n",
    "s4= 'subi no onibus'\n",
    "print(is_anagram(s3, s4))"
   ]
  },
  {
   "cell_type": "markdown",
   "metadata": {},
   "source": [
    "**Exercise 10.7.** *Write a function called* `has_duplicates` *that takes a list and returns True if there is any element that appears more than once. It should not modify the original list.*"
   ]
  },
  {
   "cell_type": "code",
   "execution_count": 7,
   "metadata": {},
   "outputs": [
    {
     "name": "stdout",
     "output_type": "stream",
     "text": [
      "False\n",
      "True\n"
     ]
    }
   ],
   "source": [
    "def has_duplicates(t):\n",
    "    for i in range(len(t)):\n",
    "        for j in range(len(t)):\n",
    "            if i==j:\n",
    "                continue\n",
    "            elif t[i]==t[j]:\n",
    "                return True\n",
    "    return False\n",
    "\n",
    "t=[1,2,3,4]\n",
    "print(has_duplicates(t))\n",
    "t=[1,2,3,2]\n",
    "print(has_duplicates(t))"
   ]
  },
  {
   "cell_type": "markdown",
   "metadata": {},
   "source": [
    "**Exercise 10.8.** *This exercise pertains to the so-called Birthday Paradox, which you can read about\n",
    "at http://en.wikipedia.org/wiki/Birthday_paradox.*\n",
    "\n",
    "*If there are 23 students in your class, what are the chances that two of you have the same birthday?\n",
    "You can estimate this probability by generating random samples of 23 birthdays and checking for\n",
    "matches.*\n",
    "\n",
    "*Hint: you can generate random birthdays with the randint function in the random module.\n",
    "You can download my solution from http://thinkpython2.com/code/birthday.py.*"
   ]
  },
  {
   "cell_type": "code",
   "execution_count": 8,
   "metadata": {},
   "outputs": [
    {
     "name": "stdout",
     "output_type": "stream",
     "text": [
      "After 1000 simulations, \n",
      "with 23 students each, \n",
      "we obtained 517 matches.\n"
     ]
    }
   ],
   "source": [
    "from random import randint\n",
    "\n",
    "def random_bdays(n):\n",
    "    \"\"\"Returns a ramdom list of birthdays\n",
    "    \"\"\"\n",
    "    bd=[]\n",
    "    \n",
    "    for i in range(n):\n",
    "        bd+=[randint(1,365)]\n",
    "    return bd\n",
    "\n",
    "def has_duplicates(t):\n",
    "    for i in range(len(t)):\n",
    "        for j in range(len(t)):\n",
    "            if i==j:\n",
    "                continue\n",
    "            elif t[i]==t[j]:\n",
    "                return True\n",
    "    return False\n",
    "\n",
    "def counting_matches(n_simul, n):\n",
    "    matches=0\n",
    "    for i in range(n_simul):\n",
    "        if has_duplicates(random_bdays(n)):\n",
    "            matches+=1\n",
    "    return matches\n",
    "\n",
    "\n",
    "n=23\n",
    "n_simul=1000\n",
    "    \n",
    "print(\"\"\"After {} simulations, \n",
    "with {} students each, \n",
    "we obtained {} matches.\"\"\".format(n_simul, n, counting_matches(n_simul, n)))\n"
   ]
  },
  {
   "cell_type": "markdown",
   "metadata": {},
   "source": [
    "**Exercise 10.9.** *Write a function that reads the file words.txt and builds a list with one element\n",
    "per word. Write two versions of this function, one using the append method and the other using\n",
    "the idiom* `t = t + [x]`. *Which one takes longer to run? Why?*\n",
    "\n",
    "Solution: http://thinkpython2.com/code/wordlist.py ."
   ]
  },
  {
   "cell_type": "code",
   "execution_count": 9,
   "metadata": {},
   "outputs": [
    {
     "name": "stdout",
     "output_type": "stream",
     "text": [
      "The first version takes 0.6109590530395508 seconds.\n",
      "The second version takes 237.97663617134094 seconds.\n",
      "The third version takes 237.97663617134094 seconds.\n",
      "The lists have 113809 words.\n"
     ]
    }
   ],
   "source": [
    "import time\n",
    "\n",
    "def make_word_list1():\n",
    "    \"\"\"Reads lines from a file and builds a list using append.\"\"\"\n",
    "    words = []\n",
    "    fin = open('words.txt')\n",
    "    for line in fin:\n",
    "        word = line.strip()\n",
    "        words.append(word)\n",
    "    return words\n",
    "\n",
    "def make_word_list2():\n",
    "    \"\"\"Reads lines from a file and builds a list using +\"\"\"\n",
    "    words = []\n",
    "    fin = open('words.txt')\n",
    "    for line in fin:\n",
    "        word = line.strip()\n",
    "        words= words+[word]\n",
    "    return words\n",
    "\n",
    "start1= time.time()\n",
    "words1=make_word_list1()\n",
    "elapsed1=time.time() - start1\n",
    "\n",
    "print('The first version takes {} seconds.'.format(elapsed1))\n",
    "\n",
    "start2=time.time()\n",
    "words2=make_word_list2()\n",
    "elapsed2=time.time() - start2\n",
    "\n",
    "print('The second version takes {} seconds.'.format(elapsed2))\n",
    "\n",
    "\n",
    "\n",
    "def make_word_list3():\n",
    "    \"\"\"Reads lines from a file and builds a list using +=\n",
    "    (This was not required at the exercise)\"\"\"\n",
    "    words = []\n",
    "    fin = open('words.txt')\n",
    "    for line in fin:\n",
    "        word = line.strip()\n",
    "        words += [word]\n",
    "    return words\n",
    "\n",
    "start3=time.time()\n",
    "words3=make_word_list3()\n",
    "elapsed3=time.time() - start3\n",
    "\n",
    "print('The third version takes {} seconds.'.format(elapsed2))\n",
    "\n",
    "print('The lists have {} words.'.format(len(words1)))"
   ]
  },
  {
   "cell_type": "raw",
   "metadata": {},
   "source": [
    "The time to the second case is greater the the time to the first..."
   ]
  },
  {
   "cell_type": "markdown",
   "metadata": {},
   "source": [
    "**Exercise 10.10.** *To check whether a word is in the word list, you could use the* `in` *operator, but it would be slow because it searches through the words in order*.\n",
    "\n",
    "*Because the words are in alphabetical order, we can speed things up with a bisection search (also\n",
    "known as binary search), which is similar to what you do when you look a word up in the dictionary.\n",
    "You start in the middle and check to see whether the word you are looking for comes before the word\n",
    "in the middle of the list. If so, you search the first half of the list the same way. Otherwise you search the second half.*\n",
    "\n",
    "*Either way, you cut the remaining search space in half. If the word list has 113,809 words, it will\n",
    "take about 17 steps to find the word or conclude that it’s not there.*\n",
    "\n",
    "*Write a function called* `in_bisect` *that takes a sorted list and a target value and returns* `True` *if the word is in the list and* `False` *if it’s not.*\n",
    "\n",
    "*Or you could read the documentation of the* `bisect` *module and use that! Solution: http://thinkpython2.com/code/inlist.py .*"
   ]
  },
  {
   "cell_type": "code",
   "execution_count": 2,
   "metadata": {},
   "outputs": [
    {
     "name": "stdout",
     "output_type": "stream",
     "text": [
      "aa in list True\n",
      "alien in list True\n",
      "allen in list False\n",
      "zymurgy in list True\n"
     ]
    }
   ],
   "source": [
    "def make_word_list():\n",
    "    \"\"\"Reads lines from a file and builds a list using append.\"\"\"\n",
    "    words = []\n",
    "    fin = open('words.txt')\n",
    "    for line in fin:\n",
    "        word = line.strip()\n",
    "        words.append(word)\n",
    "    return words\n",
    "\n"
   ]
  },
  {
   "cell_type": "code",
   "execution_count": 11,
   "metadata": {},
   "outputs": [
    {
     "name": "stdout",
     "output_type": "stream",
     "text": [
      "aa in list True\n",
      "alien in list True\n",
      "allen in list False\n",
      "zymurgy in list True\n",
      "aa in list True\n",
      "alien in list True\n",
      "allen in list False\n",
      "zymurgy in list True\n"
     ]
    }
   ],
   "source": [
    "\"\"\"This module contains a code example related to\n",
    "\n",
    "Think Python, 2nd Edition\n",
    "by Allen Downey\n",
    "http://thinkpython2.com\n",
    "\n",
    "Copyright 2015 Allen Downey\n",
    "\n",
    "License: http://creativecommons.org/licenses/by/4.0/\n",
    "\"\"\"\n",
    "\n",
    "from __future__ import print_function, division\n",
    "\n",
    "import bisect\n",
    "\n",
    "\n",
    "def make_word_list():\n",
    "    \"\"\"Reads lines from a file and builds a list using append.\n",
    "\n",
    "    returns: list of strings\n",
    "    \"\"\"\n",
    "    word_list = []\n",
    "    fin = open('words.txt')\n",
    "    for line in fin:\n",
    "        word = line.strip()\n",
    "        word_list.append(word)\n",
    "    return word_list\n",
    "\n",
    "\n",
    "def in_bisect(word_list, word):\n",
    "    \"\"\"Checks whether a word is in a list using bisection search.\n",
    "\n",
    "    Precondition: the words in the list are sorted\n",
    "\n",
    "    word_list: list of strings\n",
    "    word: string\n",
    "\n",
    "    returns: True if the word is in the list; False otherwise\n",
    "    \"\"\"\n",
    "    if len(word_list) == 0:\n",
    "        return False\n",
    "\n",
    "    i = len(word_list) // 2\n",
    "    if word_list[i] == word:\n",
    "        return True\n",
    "\n",
    "    if word_list[i] > word:\n",
    "        # search the first half\n",
    "        return in_bisect(word_list[:i], word)\n",
    "    else:\n",
    "        # search the second half\n",
    "        return in_bisect(word_list[i+1:], word)\n",
    "\n",
    "\n",
    "def in_bisect_cheat(word_list, word):\n",
    "    \"\"\"Checks whether a word is in a list using bisection search.\n",
    "\n",
    "    Precondition: the words in the list are sorted\n",
    "\n",
    "    word_list: list of strings\n",
    "    word: string\n",
    "    \"\"\"\n",
    "    i = bisect.bisect_left(word_list, word)\n",
    "    if i == len(word_list):\n",
    "        return False\n",
    "\n",
    "    return word_list[i] == word\n",
    "\n",
    "\n",
    "if __name__ == '__main__':\n",
    "    word_list = make_word_list()\n",
    "    \n",
    "    for word in ['aa', 'alien', 'allen', 'zymurgy']:\n",
    "        print(word, 'in list', in_bisect(word_list, word))\n",
    "\n",
    "    for word in ['aa', 'alien', 'allen', 'zymurgy']:\n",
    "        print(word, 'in list', in_bisect_cheat(word_list, word))\n"
   ]
  },
  {
   "cell_type": "markdown",
   "metadata": {},
   "source": [
    "**Exercise 10.11.** *Two words are a “reverse pair” if each is the reverse of the other. Write a program that finds all the reverse pairs in the word list. Solution:* http://thinkpython2.com/code/reverse_pair.py ."
   ]
  },
  {
   "cell_type": "code",
   "execution_count": null,
   "metadata": {},
   "outputs": [],
   "source": []
  },
  {
   "cell_type": "markdown",
   "metadata": {},
   "source": [
    "**Exercise 10.12.** *Two words “interlock” if taking alternating letters from each forms a new\n",
    "word. For example, “shoe” and “cold” interlock to form “schooled”. Solution:* http://thinkpython2.com/code/interlock.py. \n",
    "\n",
    "Credit: This exercise is inspired by an example at http://puzzlers.org .\n",
    "\n",
    "1. Write a program that finds all pairs of words that interlock. Hint: don’t enumerate all pairs!\n",
    "2. Can you find any words that are three-way interlocked; that is, every third letter forms a word, starting from the first, second or third?"
   ]
  },
  {
   "cell_type": "code",
   "execution_count": null,
   "metadata": {},
   "outputs": [],
   "source": []
  }
 ],
 "metadata": {
  "kernelspec": {
   "display_name": "Python 3 (ipykernel)",
   "language": "python",
   "name": "python3"
  },
  "language_info": {
   "codemirror_mode": {
    "name": "ipython",
    "version": 3
   },
   "file_extension": ".py",
   "mimetype": "text/x-python",
   "name": "python",
   "nbconvert_exporter": "python",
   "pygments_lexer": "ipython3",
   "version": "3.9.12"
  }
 },
 "nbformat": 4,
 "nbformat_minor": 2
}
