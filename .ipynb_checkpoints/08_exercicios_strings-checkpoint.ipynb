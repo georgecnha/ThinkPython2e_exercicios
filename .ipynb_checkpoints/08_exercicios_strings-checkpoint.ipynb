{
 "cells": [
  {
   "cell_type": "markdown",
   "metadata": {
    "collapsed": true
   },
   "source": [
    "**Exercise 8.2.** _There is a string method called count that is similar to the function in Section 8.7. Read the documentation of this method and write an invocation that counts the number of a’s in\n",
    "'banana'._"
   ]
  },
  {
   "cell_type": "code",
   "execution_count": 2,
   "metadata": {},
   "outputs": [
    {
     "data": {
      "text/plain": [
       "3"
      ]
     },
     "execution_count": 2,
     "metadata": {},
     "output_type": "execute_result"
    }
   ],
   "source": [
    "'banana'.count('a')"
   ]
  },
  {
   "cell_type": "markdown",
   "metadata": {},
   "source": [
    "**Exercise 8.3.** _A string slice can take a third index that specifies the “step size”; that is, the number of spaces between successive characters. A step size of 2 means every other character; 3 means every third, etc._"
   ]
  },
  {
   "cell_type": "raw",
   "metadata": {},
   "source": [
    ">>> fruit = 'banana'\n",
    ">>> fruit[0:5:2]\n",
    "'bnn'\n"
   ]
  },
  {
   "cell_type": "markdown",
   "metadata": {},
   "source": [
    "*A step size of -1 goes through the word backwards, so the slice* [::-1] *generates a reversed string.\n",
    "Use this idiom to write a one-line version of is_palindrome from Exercise 6.3.*"
   ]
  },
  {
   "cell_type": "code",
   "execution_count": 15,
   "metadata": {},
   "outputs": [
    {
     "name": "stdout",
     "output_type": "stream",
     "text": [
      "True\n",
      "True\n",
      "False\n"
     ]
    }
   ],
   "source": [
    "#\"Readable\" Version\n",
    "def is_palindrome(c):\n",
    "    if c[::-1]==c:\n",
    "        return True\n",
    "    else:\n",
    "        return False\n",
    "    \n",
    "print(is_palindrome('redivider'))\n",
    "print(is_palindrome('arara'))\n",
    "print(is_palindrome('old'))"
   ]
  },
  {
   "cell_type": "code",
   "execution_count": 13,
   "metadata": {},
   "outputs": [
    {
     "name": "stdout",
     "output_type": "stream",
     "text": [
      "True\n",
      "True\n",
      "False\n"
     ]
    }
   ],
   "source": [
    "#One-line Version\n",
    "def is_palindrome(c):\n",
    "    return True if c[::-1]==c else False\n",
    "    \n",
    "print(is_palindrome('redivider'))\n",
    "print(is_palindrome('arara'))\n",
    "print(is_palindrome('old'))"
   ]
  },
  {
   "cell_type": "markdown",
   "metadata": {},
   "source": [
    "**Exercise 8.4.** *The following functions are all intended to check whether a string contains any\n",
    "lowercase letters, but at least some of them are wrong. For each function, describe what the function\n",
    "actually does (assuming that the parameter is a string).*"
   ]
  },
  {
   "cell_type": "code",
   "execution_count": 17,
   "metadata": {},
   "outputs": [],
   "source": [
    "\"\"\"1. WRONG: Because verify only the first character. \n",
    "   Verifies the first character in s, return True if is lowercased\n",
    "   and return False if is uppercased.\"\"\"\n",
    "\n",
    "def any_lowercase1(s):\n",
    "    for c in s: \n",
    "        if c.islower():\n",
    "            return True\n",
    "        else:\n",
    "            return False\n",
    "    \n",
    "    \n",
    "\"\"\"2. WRONG: Because don't verify any of string's characters at all.\n",
    "   It verifies the string 'c'. \"\"\"\n",
    "\n",
    "            \n",
    "def any_lowercase2(s):\n",
    "    for c in s:\n",
    "        if 'c'.islower():\n",
    "            return 'True'\n",
    "        else:\n",
    "            return 'False'\n",
    "            \n",
    "            \n",
    "\"\"\"3. WRONG: Because the flag only indicates the answer of the last verification. \"\"\"\n",
    "\n",
    "def any_lowercase3(s):\n",
    "    for c in s:\n",
    "        flag = c.islower()\n",
    "    return flag\n",
    "    \n",
    "    \n",
    "\"\"\"1. WRONG: Because verify only the first character. \n",
    "   Verifies the first character in s, return True if is lowercased\n",
    "   and return False if is uppercased.\"\"\"\n",
    "\n",
    "def any_lowercase1(s):\n",
    "    for c in s: \n",
    "        if c.islower():\n",
    "            return True\n",
    "        else:\n",
    "            return False\n",
    "    \n",
    "    \n",
    "\"\"\"2. WRONG: Because don't verify any of string's characters at all.\n",
    "   It verifies the string 'c'. \"\"\"\n",
    "\n",
    "            \n",
    "def any_lowercase2(s):\n",
    "    for c in s:\n",
    "        if 'c'.islower():\n",
    "            return 'True'\n",
    "        else:\n",
    "            return 'False'\n",
    "            \n",
    "            \n",
    "\"\"\"3. WRONG: Because the flag only indicates the answer of the last verification. \"\"\"\n",
    "\n",
    "def any_lowercase3(s):\n",
    "    for c in s:\n",
    "        flag = c.islower()\n",
    "    return flag\n",
    "\n",
    "\n",
    "\"\"\"4. Wrong: reports only an comparation between status\"\"\"\n",
    "\n",
    "def any_lowercase4(s):\n",
    "    flag = False\n",
    "    for c in s:\n",
    "        flag = flag or c.islower()\n",
    "    return flag\n",
    "\n",
    "\"\"\"5. Right: If ther is one character uppercased, it returns False.\"\"\"\n",
    "\n",
    "def any_lowercase5(s):\n",
    "    for c in s:\n",
    "        if not c.islower():\n",
    "            return False\n",
    "    return True    "
   ]
  },
  {
   "cell_type": "markdown",
   "metadata": {},
   "source": [
    "**Exercise 8.5.** *A Caesar cypher is a weak form of encryption that involves “rotating” each letter by a fixed number of places. To rotate a letter means to shift it through the alphabet, wrapping around to the beginning if necessary, so ’A’ rotated by 3 is ’D’ and ’Z’ rotated by 1 is ’A’.*\n",
    "\n",
    "*To rotate a word, rotate each letter by the same amount. For example, “cheer” rotated by 7 is “jolly” and “melon” rotated by -10 is “cubed”. In the movie 2001: A Space Odyssey, the ship computer\n",
    "is called HAL, which is IBM rotated by -1.*\n",
    "\n",
    "*Write a function* `called rotate_word` *that takes a string and an integer as parameters, and returns\n",
    "a new string that contains the letters from the original string rotated by the given amount.\n",
    "You might want to use the built-in function* `ord`*, which converts a character to a numeric code, and *`chr`*, which converts numeric codes to characters. Letters of the alphabet are encoded in alphabetical\n",
    "order, so for example:*"
   ]
  },
  {
   "cell_type": "raw",
   "metadata": {},
   "source": [
    ">>> ord('c') - ord('a')\n",
    "2"
   ]
  },
  {
   "cell_type": "markdown",
   "metadata": {},
   "source": [
    "*Because 'c' is the two-eth letter of the alphabet. But beware: the numeric codes for upper case\n",
    "letters are different.*\n",
    "\n",
    "*Potentially offensive jokes on the Internet are sometimes encoded in ROT13, which is a Caesar\n",
    "cypher with rotation 13. If you are not easily offended, find and decode some of them. Solution:\n",
    "http://thinkpython2.com/code/rotate.py .*"
   ]
  },
  {
   "cell_type": "code",
   "execution_count": 29,
   "metadata": {},
   "outputs": [
    {
     "name": "stdout",
     "output_type": "stream",
     "text": [
      "jolly\n",
      "cubed\n",
      "bunny\n",
      "HAL\n"
     ]
    }
   ],
   "source": [
    "def rotate_word(word, n):\n",
    "    new=''\n",
    "    for letter in word:\n",
    "        if letter.isupper(): #Teste de maiúsculas ou minúsculas\n",
    "            start=ord('A')   #para determinar o ponto de partida do código.\n",
    "        elif letter.islower():\n",
    "            start=ord('a')\n",
    "            \n",
    "        c1=ord(letter)-start\n",
    "        i=(c1+n)%26 + start #Se o resto for zero, significa que chegamos ao z\n",
    "        new=new+chr(i)\n",
    "    return new\n",
    "    \n",
    "print(rotate_word('cheer', 7))\n",
    "print(rotate_word('melon', -10))\n",
    "print(rotate_word('sleep', 9))\n",
    "print(rotate_word('IBM', -1))\n"
   ]
  },
  {
   "cell_type": "code",
   "execution_count": 3,
   "metadata": {},
   "outputs": [
    {
     "name": "stdout",
     "output_type": "stream",
     "text": [
      "jolly\n",
      "cubed\n",
      "bunny\n"
     ]
    }
   ],
   "source": [
    "\"\"\"This module contains a code example related to\n",
    "\n",
    "Think Python, 2nd Edition\n",
    "by Allen Downey\n",
    "http://thinkpython2.com\n",
    "\n",
    "Copyright 2015 Allen Downey\n",
    "\n",
    "License: http://creativecommons.org/licenses/by/4.0/\n",
    "\"\"\"\n",
    "\n",
    "def rotate_letter(letter, n):\n",
    "    \"\"\"Rotates a letter by n places.  Does not change other chars.\n",
    "\n",
    "    letter: single-letter string\n",
    "    n: int\n",
    "\n",
    "    Returns: single-letter string\n",
    "    \"\"\"\n",
    "    if letter.isupper():\n",
    "        start = ord('A')\n",
    "    elif letter.islower():\n",
    "        start = ord('a')\n",
    "    else:\n",
    "        return letter\n",
    "\n",
    "    c = ord(letter) - start\n",
    "    i = (c + n) % 26 + start\n",
    "    return chr(i)\n",
    "\n",
    "\n",
    "def rotate_word(word, n):\n",
    "    \"\"\"Rotates a word by n places.\n",
    "\n",
    "    word: string\n",
    "    n: integer\n",
    "\n",
    "    Returns: string\n",
    "    \"\"\"\n",
    "    res = ''\n",
    "    for letter in word:\n",
    "        res += rotate_letter(letter, n)\n",
    "    return res\n",
    "\n",
    "\n",
    "if __name__ == '__main__':\n",
    "    print(rotate_word('cheer', 7))\n",
    "    print(rotate_word('melon', -10))\n",
    "    print(rotate_word('sleep', 9))"
   ]
  }
 ],
 "metadata": {
  "kernelspec": {
   "display_name": "Python 3 (ipykernel)",
   "language": "python",
   "name": "python3"
  },
  "language_info": {
   "codemirror_mode": {
    "name": "ipython",
    "version": 3
   },
   "file_extension": ".py",
   "mimetype": "text/x-python",
   "name": "python",
   "nbconvert_exporter": "python",
   "pygments_lexer": "ipython3",
   "version": "3.9.12"
  }
 },
 "nbformat": 4,
 "nbformat_minor": 2
}
