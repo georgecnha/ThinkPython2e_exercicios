{
 "cells": [
  {
   "cell_type": "markdown",
   "metadata": {},
   "source": [
    "#### Exercise 3.2. "
   ]
  },
  {
   "cell_type": "raw",
   "metadata": {
    "collapsed": true
   },
   "source": [
    "A function object is a value you can assign to a variable or pass as an argument. For example, do_twice is a function that takes a function object as an argument and calls it twice:\n",
    "\n",
    "def do_twice(f):\n",
    "    f()\n",
    "    f()\n",
    "\n",
    "Here’s an example that uses do_twice to call a funct\n",
    "def print_spam():\n",
    "    print('spam')\n",
    "    do_twice(print_spam)\n",
    "    \n",
    "1. Type this example into a script and test it.\n",
    "2. Modify do_twice so that it takes two arguments, a function object and a value, and calls the\n",
    "function twice, passing the value as an argument.\n",
    "3. Copy the definition of print_twice from earlier in this chapter to your script.\n",
    "4. Use the modified version of do_twice to call print_twice twice, passing 'spam' as an\n",
    "argument.\n",
    "5. Define a new function called do_four that takes a function object and a value and calls the\n",
    "function four times, passing the value as a parameter. There should be only two statements in\n",
    "the body of this function, not four."
   ]
  },
  {
   "cell_type": "code",
   "execution_count": null,
   "metadata": {},
   "outputs": [],
   "source": [
    "#1\n",
    "\n",
    "def do_twice(f):\n",
    "    f()\n",
    "    f()\n",
    "def print_spam():\n",
    "    print('spam')\n",
    "\n",
    "do_twice(print_spam)\n",
    "    "
   ]
  },
  {
   "cell_type": "code",
   "execution_count": null,
   "metadata": {},
   "outputs": [],
   "source": [
    "#2. Modify do_twice so that it takes two arguments, a function object and a value, and calls the\n",
    "#function twice, passing the value as an argument.\n",
    "\n",
    "def do_twice(f, a):\n",
    "    f(a)\n",
    "    f(a)\n",
    "def print_b(b):\n",
    "    print(b)\n",
    "\n",
    "do_twice(print_b,a=1)\n",
    "    \n"
   ]
  },
  {
   "cell_type": "code",
   "execution_count": 5,
   "metadata": {},
   "outputs": [
    {
     "name": "stdout",
     "output_type": "stream",
     "text": [
      "spam\n",
      "spam\n",
      "spam\n",
      "spam\n"
     ]
    }
   ],
   "source": [
    "#3. Copy the definition of print_twice from earlier in this chapter to your script.\n",
    "#4. Use the modified version of do_twice to call print_twice twice, passing 'spam' as an argument.\n",
    "\n",
    "def print_twice(bruce):\n",
    "    print(bruce)\n",
    "    print(bruce)\n",
    "\n",
    "def do_twice(f, a):\n",
    "    f(a)\n",
    "    f(a)\n",
    "    \n",
    "do_twice(print_twice, 'spam')"
   ]
  },
  {
   "cell_type": "code",
   "execution_count": 24,
   "metadata": {},
   "outputs": [
    {
     "name": "stdout",
     "output_type": "stream",
     "text": [
      "new\n",
      "new\n",
      "\n",
      "new\n",
      "new\n",
      "new\n",
      "new\n"
     ]
    }
   ],
   "source": [
    "#5. Define a new function called do_four that takes a function object and a value and calls the\n",
    "#function four times, passing the value as a parameter. There should be only two statements in\n",
    "#the body of this function, not four.\n",
    "\n",
    "def print_1(a): #print \n",
    "    print(a)\n",
    "\n",
    "def do_twice(f, bruce): #Calls twice\n",
    "    f(bruce)\n",
    "    f(bruce)\n",
    "\n",
    "def do_four(f, a): #Calls twice times twice\n",
    "    do_twice(f, a)\n",
    "    do_twice(f, a)\n",
    "    \n",
    "do_twice(print_1, 'new')\n",
    "print('')\n",
    "do_four(print_1, 'new')\n"
   ]
  }
 ],
 "metadata": {
  "kernelspec": {
   "display_name": "Python 3 (ipykernel)",
   "language": "python",
   "name": "python3"
  },
  "language_info": {
   "codemirror_mode": {
    "name": "ipython",
    "version": 3
   },
   "file_extension": ".py",
   "mimetype": "text/x-python",
   "name": "python",
   "nbconvert_exporter": "python",
   "pygments_lexer": "ipython3",
   "version": "3.9.12"
  }
 },
 "nbformat": 4,
 "nbformat_minor": 2
}
