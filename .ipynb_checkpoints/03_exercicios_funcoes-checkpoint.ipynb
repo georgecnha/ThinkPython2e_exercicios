{
 "cells": [
  {
   "cell_type": "markdown",
   "metadata": {
    "collapsed": true
   },
   "source": [
    "**Exercise 3.1.** Write a function named `right_justify` that takes a string named s as a parameter\n",
    "and prints the string with enough leading spaces so that the last letter of the string is in column 70\n",
    "of the display.\n",
    "\n"
   ]
  },
  {
   "cell_type": "markdown",
   "metadata": {},
   "source": [
    "```python\n",
    "$>>>$ right_justify('monty')\n",
    "                                                               monty\n",
    "```"
   ]
  },
  {
   "cell_type": "markdown",
   "metadata": {},
   "source": [
    "**Hint:** Use string concatenation and repetition. Also, Python provides a built-in function called `len`\n",
    "that returns the length of a string, so the value of `len('monty')` is 5."
   ]
  },
  {
   "cell_type": "code",
   "execution_count": 1,
   "metadata": {},
   "outputs": [
    {
     "name": "stdout",
     "output_type": "stream",
     "text": [
      "Digite o texto a ser justificado: Justificado à direita\n",
      "                                                 Justificado à direita\n"
     ]
    }
   ],
   "source": [
    "def right_justify(s):\n",
    "    n=len(s)\n",
    "    print((70-(n))*(' ')+s)\n",
    "    \n",
    "    \n",
    "a=str(input('Digite o texto a ser justificado: '))\n",
    "right_justify(a)"
   ]
  },
  {
   "cell_type": "markdown",
   "metadata": {},
   "source": [
    "#### Exercise 3.2. \n",
    "\n",
    "A function object is a value you can assign to a variable or pass as an argument. For example, do_twice is a function that takes a function object as an argument and calls it twice:\n",
    "\n",
    "```python\n",
    "\n",
    "def do_twice(f):\n",
    "    f()\n",
    "    f()\n",
    "```\n",
    "    \n",
    "Here’s an example that uses do_twice to call a function:\n",
    "\n",
    "```python\n",
    "def print_spam():\n",
    "    print('spam')\n",
    "    do_twice(print_spam)\n",
    "``` \n",
    "\n",
    "\n",
    "1. Type this example into a script and test it.\n",
    "2. Modify `do_twice` so that it takes two arguments, a function object and a value, and calls the function twice, passing the value as an argument.\n",
    "3. Copy the definition of print_twice from earlier in this chapter to your script.\n",
    "4. Use the modified version of do_twice to call print_twice twice, passing 'spam' as an argument.\n",
    "5. Define a new function called do_four that takes a function object and a value and calls the function four times, passing the value as a parameter. There should be only two statements in the body of this function, not four."
   ]
  },
  {
   "cell_type": "code",
   "execution_count": 2,
   "metadata": {},
   "outputs": [
    {
     "name": "stdout",
     "output_type": "stream",
     "text": [
      "spam\n",
      "spam\n"
     ]
    }
   ],
   "source": [
    "#1\n",
    "\n",
    "def do_twice(f):\n",
    "    f()\n",
    "    f()\n",
    "def print_spam():\n",
    "    print('spam')\n",
    "\n",
    "do_twice(print_spam)\n",
    "    "
   ]
  },
  {
   "cell_type": "code",
   "execution_count": 3,
   "metadata": {},
   "outputs": [
    {
     "name": "stdout",
     "output_type": "stream",
     "text": [
      "1\n",
      "1\n"
     ]
    }
   ],
   "source": [
    "#2. Modify do_twice so that it takes two arguments, a function object and a value, and calls the\n",
    "#function twice, passing the value as an argument.\n",
    "\n",
    "def do_twice(f, a):\n",
    "    f(a)\n",
    "    f(a)\n",
    "def print_b(b):\n",
    "    print(b)\n",
    "\n",
    "do_twice(print_b,a=1)"
   ]
  },
  {
   "cell_type": "code",
   "execution_count": 4,
   "metadata": {},
   "outputs": [
    {
     "name": "stdout",
     "output_type": "stream",
     "text": [
      "spam\n",
      "spam\n",
      "spam\n",
      "spam\n"
     ]
    }
   ],
   "source": [
    "#3. Copy the definition of print_twice from earlier in this chapter to your script.\n",
    "\n",
    "def print_twice(bruce):\n",
    "    print(bruce)\n",
    "    print(bruce)\n",
    "\n",
    "#4. Use the modified version of do_twice to call print_twice twice, passing 'spam' as an argument.\n",
    "\n",
    "def do_twice(f, a):\n",
    "    f(a)\n",
    "    f(a)\n",
    "    \n",
    "do_twice(print_twice, 'spam')"
   ]
  },
  {
   "cell_type": "code",
   "execution_count": 5,
   "metadata": {},
   "outputs": [
    {
     "name": "stdout",
     "output_type": "stream",
     "text": [
      "new\n",
      "new\n",
      "\n",
      "new\n",
      "new\n",
      "new\n",
      "new\n"
     ]
    }
   ],
   "source": [
    "#5. Define a new function called do_four that takes a function object and a value and calls the\n",
    "#function four times, passing the value as a parameter. There should be only two statements in\n",
    "#the body of this function, not four.\n",
    "\n",
    "def print_1(a): #print \n",
    "    print(a)\n",
    "\n",
    "def do_twice(f, bruce): #Calls twice\n",
    "    f(bruce)\n",
    "    f(bruce)\n",
    "\n",
    "def do_four(f, a): #Calls twice times twice\n",
    "    do_twice(f, a)\n",
    "    do_twice(f, a)\n",
    "    \n",
    "do_twice(print_1, 'new')\n",
    "print('')\n",
    "do_four(print_1, 'new')\n"
   ]
  },
  {
   "cell_type": "markdown",
   "metadata": {},
   "source": [
    "**Exercise 3.3.** *Note: This exercise should be done using only the statements and other features we have learned so far.*\n",
    "\n",
    "1. Write a function that draws a grid like the following:\n",
    "\n",
    "```\n",
    "\n",
    "+ - - - - + - - - - +\n",
    "|         |         |\n",
    "|         |         |\n",
    "|         |         |\n",
    "|         |         |\n",
    "+ - - - - + - - - - +\n",
    "|         |         |\n",
    "|         |         |\n",
    "|         |         |\n",
    "|         |         |\n",
    "+ - - - - + - - - - +\n",
    "\n",
    "```\n",
    "\n",
    "_Hint: to print more than one value on a line, you can print a comma-separated sequence of\n",
    "values:_\n",
    "```python\n",
    "\n",
    "print('+', '-')\n",
    "```\n",
    "\n",
    "By default, print advances to the next line, but you can override that behavior and put a\n",
    "space at the end, like this:\n",
    "\n",
    "```python\n",
    "print('+', end=' ')\n",
    "print('-')\n",
    "```\n",
    "\n",
    "\n",
    "The output of these statements is '+ -' on the same line. The output from the next print\n",
    "statement would begin on the next line.\n",
    "\n",
    "2. Write a function that draws a similar grid with four rows and four columns.\n",
    "Solution: http://thinkpython2.com/code/grid.py . Credit: This exercise is based on an exercise in Oualline, Practical C Programming, Third Edition, O’Reilly Media, 1997.\n"
   ]
  },
  {
   "cell_type": "code",
   "execution_count": 15,
   "metadata": {},
   "outputs": [
    {
     "name": "stdout",
     "output_type": "stream",
     "text": [
      "+ - - - - + - - - - +\n",
      "|         |         |\n",
      "|         |         |\n",
      "|         |         |\n",
      "|         |         |\n",
      "+ - - - - + - - - - +\n",
      "|         |         |\n",
      "|         |         |\n",
      "|         |         |\n",
      "|         |         |\n",
      "+ - - - - + - - - - +"
     ]
    }
   ],
   "source": [
    "#1. Write a function that draws a grid like the following:\n",
    "\"\"\"\n",
    "+ - - - - + - - - - +\n",
    "|         |         |\n",
    "|         |         |\n",
    "|         |         |\n",
    "|         |         |\n",
    "+ - - - - + - - - - +\n",
    "|         |         |\n",
    "|         |         |\n",
    "|         |         |\n",
    "|         |         |\n",
    "+ - - - - + - - - - +\n",
    "\n",
    "\"\"\"\n",
    "\n",
    "\n",
    "\n",
    "def printgrid2 ():\n",
    "    print(\"\"\"+ - - - - + - - - - +\n",
    "|         |         |\n",
    "|         |         |\n",
    "|         |         |\n",
    "|         |         |\n",
    "+ - - - - + - - - - +\n",
    "|         |         |\n",
    "|         |         |\n",
    "|         |         |\n",
    "|         |         |\n",
    "+ - - - - + - - - - +\"\"\", end=\"\")\n",
    "    \n",
    "printgrid2()"
   ]
  },
  {
   "cell_type": "code",
   "execution_count": 20,
   "metadata": {},
   "outputs": [
    {
     "name": "stdout",
     "output_type": "stream",
     "text": [
      "\n",
      "+ - - - - + - - - - + - - - - + - - - - +\n",
      "|         |         |         |         |\n",
      "|         |         |         |         |\n",
      "|         |         |         |         |\n",
      "|         |         |         |         |\n",
      "+ - - - - + - - - - + - - - - + - - - - +\n",
      "|         |         |         |         |\n",
      "|         |         |         |         |\n",
      "|         |         |         |         |\n",
      "|         |         |         |         |\n",
      "+ - - - - + - - - - + - - - - + - - - - +\n",
      "|         |         |         |         |\n",
      "|         |         |         |         |\n",
      "|         |         |         |         |\n",
      "|         |         |         |         |\n",
      "+ - - - - + - - - - + - - - - + - - - - +\n",
      "|         |         |         |         |\n",
      "|         |         |         |         |\n",
      "|         |         |         |         |\n",
      "|         |         |         |         |\n",
      "+ - - - - + - - - - + - - - - + - - - - +\n",
      "\n"
     ]
    }
   ],
   "source": [
    "# 2. Write a function that draws a similar grid with four rows and four columns\n",
    "\n",
    "def printgrid4():\n",
    "    print(\"\"\"\n",
    "+ - - - - + - - - - + - - - - + - - - - +\n",
    "|         |         |         |         |\n",
    "|         |         |         |         |\n",
    "|         |         |         |         |\n",
    "|         |         |         |         |\n",
    "+ - - - - + - - - - + - - - - + - - - - +\n",
    "|         |         |         |         |\n",
    "|         |         |         |         |\n",
    "|         |         |         |         |\n",
    "|         |         |         |         |\n",
    "+ - - - - + - - - - + - - - - + - - - - +\n",
    "|         |         |         |         |\n",
    "|         |         |         |         |\n",
    "|         |         |         |         |\n",
    "|         |         |         |         |\n",
    "+ - - - - + - - - - + - - - - + - - - - +\n",
    "|         |         |         |         |\n",
    "|         |         |         |         |\n",
    "|         |         |         |         |\n",
    "|         |         |         |         |\n",
    "+ - - - - + - - - - + - - - - + - - - - +\n",
    "\"\"\")\n",
    "    \n",
    "printgrid4()"
   ]
  }
 ],
 "metadata": {
  "kernelspec": {
   "display_name": "Python 3 (ipykernel)",
   "language": "python",
   "name": "python3"
  },
  "language_info": {
   "codemirror_mode": {
    "name": "ipython",
    "version": 3
   },
   "file_extension": ".py",
   "mimetype": "text/x-python",
   "name": "python",
   "nbconvert_exporter": "python",
   "pygments_lexer": "ipython3",
   "version": "3.9.12"
  }
 },
 "nbformat": 4,
 "nbformat_minor": 2
}
