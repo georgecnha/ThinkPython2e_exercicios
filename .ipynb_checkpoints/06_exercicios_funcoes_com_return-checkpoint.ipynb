{
 "cells": [
  {
   "cell_type": "markdown",
   "metadata": {
    "collapsed": true
   },
   "source": [
    "**Exercise 6.4.** A number, a, is a power of b if it is divisible by b and a/b is a power of b. Write a\n",
    "function called `is_power` that takes parameters a and b and returns `True` if a is a power of b. \n",
    "\n",
    "Note: you will have to think about the base case."
   ]
  },
  {
   "cell_type": "markdown",
   "metadata": {},
   "source": [
    "**Exercício 6.4.** Um número, a, é uma potência de b, se é divisível por b e a/b é uma potência de b. Escreva uma função chamada `is_power` que receba a e b e retorne `True` se a for uma potência de b.\n",
    "\n",
    "Nota: Você vai ter que pensar sobre o _base case_."
   ]
  },
  {
   "cell_type": "code",
   "execution_count": 8,
   "metadata": {},
   "outputs": [],
   "source": [
    "def is_power(a, b):\n",
    "    \"\"\"\n",
    "    Testa se um número 'a' é potência de 'b'\n",
    "    Exemplo: 4 é potência de 2\n",
    "    \"\"\"\n",
    "    #Testando os casos a que a fórmula não se aplica\n",
    "    #True\n",
    "    if a == 0 and b == 0:              \n",
    "        return True\n",
    "    elif a == 1 and b == 1: \n",
    "        return True  \n",
    "    elif a % b == 0 and a / b == 1:\n",
    "        return True                   #Dois números divisíveis, cuja divisão dá 1. Ex.:2^1=2\n",
    "    \n",
    "    #False\n",
    "    elif a % b != 0:     \n",
    "        return False                   #Números indivisíveis um pelo outro não são potência\n",
    "    elif a > 0 and b == 0:\n",
    "        return False                  #Nenhum número maior que zero, a alguma potência é 0.\n",
    "    elif a > 1 and b == 1:\n",
    "        return False                  #Nenhum número maior que um a alguma potência é 1.\n",
    "    \n",
    "    #Fórmula\n",
    "    elif a % b == 0 and a / b > 1:\n",
    "        if is_power(a / b, b):\n",
    "            return True\n",
    "        else:\n",
    "            return False\n"
   ]
  },
  {
   "cell_type": "code",
   "execution_count": 9,
   "metadata": {},
   "outputs": [
    {
     "name": "stdout",
     "output_type": "stream",
     "text": [
      "True\n"
     ]
    }
   ],
   "source": [
    "print(is_power(1024, 4))"
   ]
  },
  {
   "cell_type": "code",
   "execution_count": 10,
   "metadata": {},
   "outputs": [
    {
     "name": "stdout",
     "output_type": "stream",
     "text": [
      "True\n"
     ]
    }
   ],
   "source": [
    "print(is_power(16, 4))"
   ]
  },
  {
   "cell_type": "code",
   "execution_count": 11,
   "metadata": {},
   "outputs": [
    {
     "name": "stdout",
     "output_type": "stream",
     "text": [
      "False\n"
     ]
    }
   ],
   "source": [
    "print(is_power(98,4))"
   ]
  },
  {
   "cell_type": "code",
   "execution_count": 12,
   "metadata": {},
   "outputs": [
    {
     "data": {
      "text/plain": [
       "True"
      ]
     },
     "execution_count": 12,
     "metadata": {},
     "output_type": "execute_result"
    }
   ],
   "source": [
    "is_power(1,1)"
   ]
  },
  {
   "cell_type": "markdown",
   "metadata": {},
   "source": [
    "**Exercise 6.5.** The greatest common divisor (GCD) of a and b is the largest number that divides\n",
    "both of them with no remainder. \n",
    "\n",
    "One way to find the GCD of two numbers is based on the observation that if **r** is the remainder when a is divided by b, then ***gcd(a,b) = gcd(b, r)***. As a base case, we can use ***gcd(a, 0) = a***.\n",
    "\n",
    "\n",
    "Write a function called `gcd` that takes parameters a and b and returns their greatest common divisor.\n",
    "\n",
    "\n",
    "Credit: This exercise is based on an example from Abelson and Sussman’s Structure and Interpretation of Computer Programs."
   ]
  },
  {
   "cell_type": "code",
   "execution_count": 15,
   "metadata": {},
   "outputs": [],
   "source": [
    "def GCD(a,b):\n",
    "    \"\"\"\n",
    "    Retorna o MDC (Máximo Divisor Comum) entre dois números (a e b)\n",
    "    \"\"\"\n",
    "    #Casos de MDC = 1\n",
    "    if a == b == 1:\n",
    "        return 1\n",
    "    elif b == a == 0:\n",
    "        return 1\n",
    "    elif a > 0 and b == 0:\n",
    "        return 1\n",
    "    elif b > 0 and a == 0:\n",
    "        return 1\n",
    "    else:\n",
    "        r= a % b\n",
    "        if r == 0:\n",
    "            return b\n",
    "        else:\n",
    "            return GCD(b, r)\n",
    "        \n",
    "       "
   ]
  },
  {
   "cell_type": "code",
   "execution_count": 23,
   "metadata": {},
   "outputs": [
    {
     "data": {
      "text/plain": [
       "2"
      ]
     },
     "execution_count": 23,
     "metadata": {},
     "output_type": "execute_result"
    }
   ],
   "source": [
    "GCD(18,4)"
   ]
  },
  {
   "cell_type": "code",
   "execution_count": 24,
   "metadata": {},
   "outputs": [
    {
     "data": {
      "text/plain": [
       "1"
      ]
     },
     "execution_count": 24,
     "metadata": {},
     "output_type": "execute_result"
    }
   ],
   "source": [
    "#MDC de dois números consecutivos é 1\n",
    "\n",
    "GCD(102,103)"
   ]
  },
  {
   "cell_type": "code",
   "execution_count": 25,
   "metadata": {},
   "outputs": [
    {
     "data": {
      "text/plain": [
       "18"
      ]
     },
     "execution_count": 25,
     "metadata": {},
     "output_type": "execute_result"
    }
   ],
   "source": [
    "#MDC 36, 90 = 18\n",
    "\n",
    "GCD (36,90)"
   ]
  },
  {
   "cell_type": "code",
   "execution_count": 26,
   "metadata": {},
   "outputs": [
    {
     "data": {
      "text/plain": [
       "10"
      ]
     },
     "execution_count": 26,
     "metadata": {},
     "output_type": "execute_result"
    }
   ],
   "source": [
    "#MDC 20, 50 = 10\n",
    "\n",
    "GCD (20, 50)"
   ]
  }
 ],
 "metadata": {
  "kernelspec": {
   "display_name": "Python 3 (ipykernel)",
   "language": "python",
   "name": "python3"
  },
  "language_info": {
   "codemirror_mode": {
    "name": "ipython",
    "version": 3
   },
   "file_extension": ".py",
   "mimetype": "text/x-python",
   "name": "python",
   "nbconvert_exporter": "python",
   "pygments_lexer": "ipython3",
   "version": "3.9.12"
  }
 },
 "nbformat": 4,
 "nbformat_minor": 2
}
