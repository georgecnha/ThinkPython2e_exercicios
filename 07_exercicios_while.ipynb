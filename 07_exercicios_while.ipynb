{
 "cells": [
  {
   "cell_type": "markdown",
   "metadata": {},
   "source": [
    "##  Raiz quadrada pelo nétodo de Newton"
   ]
  },
  {
   "cell_type": "markdown",
   "metadata": {},
   "source": [
    "**Exercise 7.1.** Copy the loop from Section 7.5 and encapsulate it in a function called mysqrt that\n",
    "takes a as a parameter, chooses a reasonable value of x, and returns an estimate of the square root of\n",
    "a. To test it, write a function named test_square_root that prints a table like this:\n",
    "\n",
    "``` \n",
    "a   mysqrt(a)     math.sqrt(a)  diff\n",
    "-   ---------     ------------  ----\n",
    "1.0 1.0           1.0           0.0\n",
    "2.0 1.41421356237 1.41421356237 2.22044604925e-16\n",
    "3.0 1.73205080757 1.73205080757 0.0\n",
    "4.0 2.0 2.0 0.0\n",
    "5.0 2.2360679775  2.2360679775  0.0\n",
    "6.0 2.44948974278 2.44948974278 0.0\n",
    "7.0 2.64575131106 2.64575131106 0.0\n",
    "8.0 2.82842712475 2.82842712475 4.4408920985e-16\n",
    "9.0 3.0           3.0           0.0\n",
    "```\n",
    "\n",
    "The first column is a number, a; the second column is the square root of a computed with mysqrt;\n",
    "the third column is the square root computed by math.sqrt; the fourth column is the absolute value\n",
    "of the difference between the two estimates.\n"
   ]
  },
  {
   "cell_type": "code",
   "execution_count": 1,
   "metadata": {},
   "outputs": [],
   "source": [
    "def mysqrt (a):\n",
    "    epsilon=10**-6\n",
    "    x=a\n",
    "    y =(x + a/x ) / 2\n",
    "    while abs(y-x)>epsilon:\n",
    "        x = y\n",
    "        y = (x+a/x) / 2\n",
    "    return y"
   ]
  },
  {
   "cell_type": "code",
   "execution_count": 2,
   "metadata": {},
   "outputs": [],
   "source": [
    "def test_square_root():\n",
    "    from math import sqrt\n",
    "    print(\"a       mysqrt(a) \\t  math.sqrt(a) \\t diff\")\n",
    "    print('-       --------- \\t  ------------ \\t ----' ) \n",
    "    for i in range (1,10):\n",
    "        print('{}  \\t{:.10f} \\t  {:.10f} \\t {} '.format(i, mysqrt(i), sqrt(i), abs(sqrt(i) - mysqrt(i))))\n",
    "        "
   ]
  },
  {
   "cell_type": "code",
   "execution_count": 3,
   "metadata": {
    "scrolled": true
   },
   "outputs": [
    {
     "name": "stdout",
     "output_type": "stream",
     "text": [
      "a       mysqrt(a) \t  math.sqrt(a) \t diff\n",
      "-       --------- \t  ------------ \t ----\n",
      "1  \t1.0000000000 \t  1.0000000000 \t 0.0 \n",
      "2  \t1.4142135624 \t  1.4142135624 \t 2.220446049250313e-16 \n",
      "3  \t1.7320508076 \t  1.7320508076 \t 0.0 \n",
      "4  \t2.0000000000 \t  2.0000000000 \t 2.220446049250313e-15 \n",
      "5  \t2.2360679775 \t  2.2360679775 \t 1.8829382497642655e-13 \n",
      "6  \t2.4494897428 \t  2.4494897428 \t 0.0 \n",
      "7  \t2.6457513111 \t  2.6457513111 \t 0.0 \n",
      "8  \t2.8284271247 \t  2.8284271247 \t 4.440892098500626e-16 \n",
      "9  \t3.0000000000 \t  3.0000000000 \t 0.0 \n"
     ]
    }
   ],
   "source": [
    "test_square_root()"
   ]
  },
  {
   "cell_type": "markdown",
   "metadata": {},
   "source": [
    "**Exercise 7.2.** *The built-in function `eval` takes a string and evaluates it using the Python interpreter. For example:*\n",
    "```\n",
    ">>> eval('1 + 2 * 3')\n",
    "7\n",
    ">>> import math\n",
    ">>> eval('math.sqrt(5)')\n",
    "2.2360679774997898\n",
    ">>> eval('type(math.pi)')\n",
    "<class 'float'>\n",
    "```\n",
    "\n",
    "*Write a function called eval_loop that iteratively prompts the user, takes the resulting input and\n",
    "evaluates it using eval, and prints the result.*\n",
    "\n",
    "*It should continue until the user enters 'done', and then return the value of the last expression it\n",
    "evaluated.*\n"
   ]
  },
  {
   "cell_type": "code",
   "execution_count": 4,
   "metadata": {},
   "outputs": [],
   "source": [
    "def eval_loop():\n",
    "    while 1==1:\n",
    "        a=input('Write a string for evaluation: ')\n",
    "        if a == 'Done' or a=='done' or a == 'DONE':\n",
    "            break\n",
    "        else:\n",
    "            print(eval(a))\n",
    "        "
   ]
  },
  {
   "cell_type": "code",
   "execution_count": 5,
   "metadata": {},
   "outputs": [
    {
     "ename": "TypeError",
     "evalue": "eval_loop() takes 0 positional arguments but 1 was given",
     "output_type": "error",
     "traceback": [
      "\u001b[1;31m---------------------------------------------------------------------------\u001b[0m",
      "\u001b[1;31mTypeError\u001b[0m                                 Traceback (most recent call last)",
      "Input \u001b[1;32mIn [5]\u001b[0m, in \u001b[0;36m<cell line: 1>\u001b[1;34m()\u001b[0m\n\u001b[1;32m----> 1\u001b[0m \u001b[43meval_loop\u001b[49m\u001b[43m(\u001b[49m\u001b[38;5;124;43m'\u001b[39;49m\u001b[38;5;124;43m1+2\u001b[39;49m\u001b[38;5;124;43m'\u001b[39;49m\u001b[43m)\u001b[49m\n",
      "\u001b[1;31mTypeError\u001b[0m: eval_loop() takes 0 positional arguments but 1 was given"
     ]
    }
   ],
   "source": [
    "eval_loop('1+2')"
   ]
  },
  {
   "cell_type": "markdown",
   "metadata": {},
   "source": [
    "**Exercise 7.3.** *The mathematician Srinivasa Ramanujan found an infinite series that can be used to generate a numerical approximation of 1/π:*\n",
    "\n",
    "$\\dfrac{1}{\\pi}= \\dfrac{2\\sqrt2}{9801}\\sum_{k=0}^{\\infty}\\dfrac{(4k)!(1103 + 26390k)}{(k!)^4 396^{4k}}$\n",
    "\n",
    "*Write a function called estimate_pi that uses this formula to compute and return an estimate of\n",
    "π. It should use a while loop to compute terms of the summation until the last term is smaller than\n",
    "1e-15 (which is Python notation for $10^{−15}$). You can check the result by comparing it to math.pi.*"
   ]
  },
  {
   "cell_type": "code",
   "execution_count": 7,
   "metadata": {},
   "outputs": [],
   "source": [
    "def estimate_pi():\n",
    "    from math import sqrt, factorial, pi\n",
    "    k=-1\n",
    "    x=0\n",
    "    while 1==1:\n",
    "        k+=1\n",
    "        num =(factorial(4 * k)) * (1103 + 26390 * k)\n",
    "        den =((factorial(k)) ** 4) * (396 ** (4 * k))\n",
    "        x += (num/den)\n",
    "        y= ( (2 * sqrt(2)) /9801) *x\n",
    "        if abs((1/y)-pi)< 10**(-15):\n",
    "            return (1/y)\n",
    "        else:\n",
    "            continue"
   ]
  },
  {
   "cell_type": "code",
   "execution_count": 8,
   "metadata": {},
   "outputs": [
    {
     "name": "stdout",
     "output_type": "stream",
     "text": [
      "3.1415926535897936\n"
     ]
    }
   ],
   "source": [
    "print(estimate_pi())"
   ]
  }
 ],
 "metadata": {
  "kernelspec": {
   "display_name": "Python 3 (ipykernel)",
   "language": "python",
   "name": "python3"
  },
  "language_info": {
   "codemirror_mode": {
    "name": "ipython",
    "version": 3
   },
   "file_extension": ".py",
   "mimetype": "text/x-python",
   "name": "python",
   "nbconvert_exporter": "python",
   "pygments_lexer": "ipython3",
   "version": "3.9.12"
  }
 },
 "nbformat": 4,
 "nbformat_minor": 2
}
