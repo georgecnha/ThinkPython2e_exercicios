{
 "cells": [
  {
   "cell_type": "markdown",
   "metadata": {},
   "source": [
    "# Capítulo 4\n",
    "### Exercícios\n",
    "\n",
    "Nota: Infelizmente os resultados dos desenhos feitos com a biblioteca Turtle não fica embutidos no notebook, assim, para que o leitor veja os resultados, incentivo que ele execute as células no Jupyter ou outra IDE de preferência."
   ]
  },
  {
   "cell_type": "markdown",
   "metadata": {},
   "source": [
    "The following is a series of exercises using TurtleWorld. They are meant to be fun, but they\n",
    "have a point, too. While you are working on them, think about what the point is.\n",
    "The following sections have solutions to the exercises, so don’t look until you have finished\n",
    "(or at least tried).\n",
    "\n",
    "1. Write a function called square that takes a parameter named t, which is a turtle. It should use the turtle to draw a square. Write a function call that passes bob as an argument to square, and then run the program again.\n"
   ]
  },
  {
   "cell_type": "code",
   "execution_count": 1,
   "metadata": {
    "scrolled": true
   },
   "outputs": [],
   "source": [
    "import turtle\n",
    "\n",
    "def square(t):\n",
    "    \"\"\"Toma um parâmetro t, que é uma turtle. Deve usar a turtle pera desenhar um quadrado.\n",
    "    \"\"\"\n",
    "    #Seleciona um delay em milissegundos\n",
    "    turtle.delay(20)\n",
    "    \n",
    "    for i in range(4):\n",
    "        t.forward(200) #forward \n",
    "        t.left(90)   #left\n",
    "    \n",
    "    #Espera o usuário fechar a janela\n",
    "    turtle.done()\n",
    "    #turtle.mainloop()\n",
    "     \n",
    "tela = turtle.Screen()\n",
    "#gambiarra pra evitar raise \"terminator\", vide: https://stackoverflow.com/questions/65546812/python-turtle-terminator\n",
    "turtle.TurtleScreen._RUNNING=True\n",
    "\n",
    "bob=turtle.Turtle()\n",
    "square(t=bob)\n",
    "\n"
   ]
  },
  {
   "cell_type": "markdown",
   "metadata": {},
   "source": [
    "2. Add another parameter, named `length`, to square. Modify the body so length of the sides is length, and then modify the function call to provide a second argument. Run the program again. Test your program with a range of values for length.\n"
   ]
  },
  {
   "cell_type": "code",
   "execution_count": 2,
   "metadata": {},
   "outputs": [],
   "source": [
    "import turtle\n",
    "def square(t, length):\n",
    "    \"\"\"Toma um parâmetro t, que é uma turtle.\n",
    "    e length, que é o tamanho do lado do quadrado em 'passos de tartaruga'\n",
    "    Deve usar a turtle pera desenhar um quadrado.\n",
    "    \"\"\"\n",
    "    for i in range(4):\n",
    "        \n",
    "        t.forward(length)\n",
    "        t.left(90)\n",
    "    turtle.delay(20)\n",
    "    turtle.mainloop()\n",
    "    \n",
    "tela = turtle.Screen()\n",
    "#gambiarra pra evitar raise \"terminator\", vide: https://stackoverflow.com/questions/65546812/python-turtle-terminator\n",
    "turtle.TurtleScreen._RUNNING=True\n",
    "\n",
    "bob=turtle.Turtle()\n",
    "square(t=bob,length=100)\n"
   ]
  },
  {
   "cell_type": "markdown",
   "metadata": {},
   "source": [
    "3. Make a copy of `square` and change the name to polygon. Add another parameter named n and modify the body so it draws an n-sided regular polygon. Hint: The exterior angles of an n-sided regular polygon are 360/n degrees.\n"
   ]
  },
  {
   "cell_type": "code",
   "execution_count": 3,
   "metadata": {},
   "outputs": [],
   "source": [
    "import turtle\n",
    "def polygon(t, length, n):\n",
    "    \"\"\"Recebe: um objeto Turtle e um tamanho de lado\"\"\"\n",
    "    turtle.delay(10)\n",
    "    angle=360/n\n",
    "    for i in range(0, n):\n",
    "        t.forward(length)\n",
    "        t.left(angle)\n",
    "\n",
    "\n",
    "tela = turtle.Screen()\n",
    "#gambiarra pra evitar raise \"terminator\", vide: https://stackoverflow.com/questions/65546812/python-turtle-terminator\n",
    "turtle.TurtleScreen._RUNNING=True\n",
    "\n",
    "bob=turtle.Turtle()\n",
    "polygon(t=bob,length=50,n=8)\n",
    "turtle.mainloop()"
   ]
  },
  {
   "cell_type": "markdown",
   "metadata": {},
   "source": [
    "4. Write a function called `circle` that takes a turtle, t, and radius, r, as parameters and that draws an approximate circle by calling polygon with an appropriate length and number of sides. Test your function with a range of values of r.\n",
    "\n",
    "_Hint: figure out the circumference of the circle and make sure that length * n = circumference._\n"
   ]
  },
  {
   "cell_type": "code",
   "execution_count": 4,
   "metadata": {},
   "outputs": [],
   "source": [
    "import turtle\n",
    "from math import pi\n",
    "def circle(t, r):\n",
    "    turtle.delay(10)  \n",
    "    circunferencia=2*pi*r   #If length * n = circumference, we know that length= circumference/n\n",
    "    n=100\n",
    "    angulo=360/n\n",
    "    length=circunferencia/n\n",
    "    for i in range(0, n):\n",
    "        t.forward(length)\n",
    "        t.left(angulo)\n",
    "\n",
    "        \n",
    "tela = turtle.Screen()\n",
    "#gambiarra pra evitar raise \"terminator\", vide: https://stackoverflow.com/questions/65546812/python-turtle-terminator\n",
    "turtle.TurtleScreen._RUNNING=True        \n",
    "\n",
    "bob=turtle.Turtle()\n",
    "circle(t=bob,r=70)\n",
    "turtle.mainloop()"
   ]
  },
  {
   "cell_type": "code",
   "execution_count": 5,
   "metadata": {},
   "outputs": [],
   "source": [
    "#Generalizando um número adaptável de lados.\n",
    "\n",
    "import turtle\n",
    "from math import pi\n",
    "def circle(t, r):\n",
    "    circunferencia=2*pi*r\n",
    "    n=int(circunferencia/3) + 3  # Aadicionar 3 a n garante que a figura terá pelo menos 3 lados.\n",
    "    angle=360/n                #If length * n = circunferencia, sabe-se que length= circunferencia/n\n",
    "    length=circunferencia/n\n",
    "    for i in range(0, n):\n",
    "        t.fd(length)\n",
    "        t.lt(angle)\n",
    "\n",
    "        \n",
    "tela = turtle.Screen()\n",
    "#gambiarra pra evitar raise \"terminator\", vide: https://stackoverflow.com/questions/65546812/python-turtle-terminator\n",
    "turtle.TurtleScreen._RUNNING=True        \n",
    "\n",
    "turtle.delay(10)  \n",
    "bob=turtle.Turtle()\n",
    "circle(t=bob,r=70)\n",
    "turtle.mainloop()"
   ]
  },
  {
   "cell_type": "markdown",
   "metadata": {},
   "source": [
    "5. Make a more general version of `circle` called `arc` that takes an additional parameter angle, which determines what fraction of a circle to draw. angle is in units of degrees, so when angle=360, arc should draw a complete circle.\n"
   ]
  },
  {
   "cell_type": "code",
   "execution_count": 6,
   "metadata": {},
   "outputs": [],
   "source": [
    "import turtle\n",
    "from math import pi\n",
    "def arc(t, r,angle): #This angle is the angle of arc.\n",
    "    arc_length=(2*pi*r*abs(angle))/360         #If length * n = circumference, we know that length= circumference/n\n",
    "    n=int(arc_length/3) + 3  \n",
    "    step_length=arc_length/(n)\n",
    "    step_angle=angle/n #This step_angle is used by the turtle when draws new sides\n",
    "    turtle.delay(10)\n",
    "    for i in range(0, n):\n",
    "        t.forward(step_length)\n",
    "        t.left(step_angle)\n",
    "     \n",
    "\n",
    "    \n",
    "tela = turtle.Screen()\n",
    "#gambiarra pra evitar raise \"terminator\", vide: https://stackoverflow.com/questions/65546812/python-turtle-terminator\n",
    "turtle.TurtleScreen._RUNNING=True \n",
    "\n",
    "bob=turtle.Turtle()\n",
    "arc(t=bob, r=100, angle=180)\n",
    "turtle.mainloop()\n",
    "\n"
   ]
  }
 ],
 "metadata": {
  "kernelspec": {
   "display_name": "Python 3 (ipykernel)",
   "language": "python",
   "name": "python3"
  },
  "language_info": {
   "codemirror_mode": {
    "name": "ipython",
    "version": 3
   },
   "file_extension": ".py",
   "mimetype": "text/x-python",
   "name": "python",
   "nbconvert_exporter": "python",
   "pygments_lexer": "ipython3",
   "version": "3.9.12"
  }
 },
 "nbformat": 4,
 "nbformat_minor": 2
}
